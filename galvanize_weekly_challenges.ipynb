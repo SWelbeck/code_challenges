{
 "cells": [
  {
   "cell_type": "markdown",
   "id": "returning-tennis",
   "metadata": {},
   "source": [
    "## WCC: March 22nd, 2021"
   ]
  },
  {
   "cell_type": "markdown",
   "id": "thermal-dressing",
   "metadata": {},
   "source": [
    "1. Complete the compounding interest function below. This function takes in four terms `P`, `t`, `rate`, and `n`. `P` is the initial principle (or amount), `t` is the overall length of time the interest is applied, `rate` is the interest rate, and `n` is the frequency at which interest is compounded.\n",
    "    \n",
    "    The new principle is calculated by $P (1 + \\frac{rate}{n}) ^{n  t} $. This function should return the new principle given the parameters. Learn more about compounding interest __[here](https://en.wikipedia.org/wiki/Compound_interest#Periodic_compounding)__."
   ]
  },
  {
   "cell_type": "code",
   "execution_count": 13,
   "id": "numerical-inspiration",
   "metadata": {
    "ExecuteTime": {
     "end_time": "2021-05-04T02:08:22.910864Z",
     "start_time": "2021-05-04T02:08:22.888069Z"
    }
   },
   "outputs": [],
   "source": [
    "def comp_interest(prin, t, rate, n):\n",
    "    return prin * ((1 + (rate/n))**(n*t))"
   ]
  },
  {
   "cell_type": "markdown",
   "id": "blocked-floating",
   "metadata": {},
   "source": [
    "2. Assume you are programming a video game. A character needs to move around a board (that is filled with obstacles ) and return to the the same starting spot in exactly 10 moves. It can be helpful to see if they entered a valid path that takes them from the start back around to the start.\n",
    "\n",
    "    Complete the `is_valid_walk` function below. It takes in one parameter `walk` that is a list of directions (`'n'`, `'s'`, `'e'`, and `'w'`). It will return `True` if it is a valid path, and `False` if it is not a valid path. A valid path is exactly 10 moves long, and they start and end in the same place on the board."
   ]
  },
  {
   "cell_type": "code",
   "execution_count": 10,
   "id": "controlled-crash",
   "metadata": {
    "ExecuteTime": {
     "end_time": "2021-05-04T01:32:06.346156Z",
     "start_time": "2021-05-04T01:32:06.339723Z"
    }
   },
   "outputs": [],
   "source": [
    "def is_valid_walk(walk):\n",
    "    # write code below\n",
    "    if len(walk) != 10:\n",
    "        return False\n",
    "    if walk.count('n') == walk.count('s') and walk.count('w') ==  walk.count('e'):\n",
    "        return True\n",
    "    else:\n",
    "        return False\n",
    "    "
   ]
  },
  {
   "cell_type": "code",
   "execution_count": 11,
   "id": "collaborative-oxygen",
   "metadata": {
    "ExecuteTime": {
     "end_time": "2021-05-04T01:32:06.831526Z",
     "start_time": "2021-05-04T01:32:06.822741Z"
    }
   },
   "outputs": [
    {
     "name": "stdout",
     "output_type": "stream",
     "text": [
      "False\n",
      "False\n",
      "True\n"
     ]
    }
   ],
   "source": [
    "# Test Cases\n",
    "\n",
    "example_path = ['n', 'n', 'e', 's', 'w', 's', 'w', 'n']\n",
    "print(is_valid_walk(example_path)) # returns False\n",
    "\n",
    "example_path = ['s', 's', 'w', 's', 'n', 's', 'n', 'e', 'n', 's']\n",
    "print(is_valid_walk(example_path)) # returns False\n",
    "\n",
    "example_path = ['n', 's', 'n', 's', 'n', 's', 'n', 's', 'n', 's']\n",
    "print(is_valid_walk(example_path)) # returns True"
   ]
  },
  {
   "cell_type": "markdown",
   "id": "useful-spare",
   "metadata": {},
   "source": [
    "3. Write a function called `is_solved` that takes in a a tic-tac-toe board as an input. The tic-tac-toe will be a list of three sub lists, where the first list is the first row, the second list is the second row, and the third list is the third row. It will look like this:\n",
    "\n",
    "    ```[[0, 0, 1],\n",
    "    [2, 1, 2],\n",
    "    [2, 2, 1]]```\n",
    " \n",
    " `is_solved` will check to see if `\"X\"`(represented by the `2`) has won , `\"O\"`(represented by `1`) has won, if there are moves left to be played (represented by `0's` still being available on the board), or if its a stale mate (neither `\"X\"` or `\"O\"` won and no more available spaces left). This function should return `2` if `\"X\"` won, return `1` if `\"O\"` won, return `0` if the board still has places to play, and `-1` if the board is at a stale mate."
   ]
  },
  {
   "cell_type": "code",
   "execution_count": 64,
   "id": "competitive-wrapping",
   "metadata": {
    "ExecuteTime": {
     "end_time": "2021-05-04T03:03:20.649040Z",
     "start_time": "2021-05-04T03:03:20.645240Z"
    }
   },
   "outputs": [],
   "source": [
    "import numpy as np\n",
    "\n",
    "def is_solved(board):\n",
    "    board = np.array(board)\n",
    "    \n",
    "    return np.sum(board, axis=0)\n",
    "#     for row in board:\n",
    "#         for i, j in enumerate(row):\n",
    "#             if row[i] == row[i + 1] == row[i + 2]:\n",
    "                \n",
    "#                 print(row[i])\n",
    "#             if len(row) < 0 :\n",
    "#                 res = True\n",
    "#             res = all(ele == row[0] for ele in row)\n",
    "      \n",
    "#             if(res):\n",
    "#                 print(\"Equal\")\n",
    "#             else:\n",
    "#                 print(\"Not equal\")\n",
    "\n",
    "            \n",
    "    "
   ]
  },
  {
   "cell_type": "code",
   "execution_count": 65,
   "id": "fossil-difficulty",
   "metadata": {
    "ExecuteTime": {
     "end_time": "2021-05-04T03:03:21.202893Z",
     "start_time": "2021-05-04T03:03:21.193109Z"
    }
   },
   "outputs": [
    {
     "data": {
      "text/plain": [
       "array([4, 3, 4])"
      ]
     },
     "execution_count": 65,
     "metadata": {},
     "output_type": "execute_result"
    }
   ],
   "source": [
    "board = [[0, 0, 1],\n",
    " [2, 1, 2],\n",
    " [2, 2, 1]]\n",
    "\n",
    "is_solved(board)"
   ]
  },
  {
   "cell_type": "code",
   "execution_count": 69,
   "id": "sealed-state",
   "metadata": {
    "ExecuteTime": {
     "end_time": "2021-05-04T03:03:38.584158Z",
     "start_time": "2021-05-04T03:03:38.572705Z"
    }
   },
   "outputs": [
    {
     "data": {
      "text/plain": [
       "0"
      ]
     },
     "execution_count": 69,
     "metadata": {},
     "output_type": "execute_result"
    }
   ],
   "source": [
    "\"\"\"\n",
    "board[0][0] |board[0][1] |board[0][2]\n",
    "board[1][0] |board[1][1] |board[1][2]\n",
    "board[2][0] |board[2][1] |board[2][2]\n",
    "\n",
    "\"\"\""
   ]
  },
  {
   "cell_type": "code",
   "execution_count": 142,
   "id": "canadian-maple",
   "metadata": {
    "ExecuteTime": {
     "end_time": "2021-05-04T03:21:37.883524Z",
     "start_time": "2021-05-04T03:21:37.876765Z"
    }
   },
   "outputs": [],
   "source": [
    "def is_solved(board):\n",
    "#     board = np.array(board)\n",
    "    \n",
    "    for i, j in enumerate(board):\n",
    "        for num in board[i]:\n",
    "            print(num)\n",
    "#         print(board[i])\n",
    "#     all(ele ==  for ele in board[i])\n"
   ]
  },
  {
   "cell_type": "code",
   "execution_count": 143,
   "id": "incident-baptist",
   "metadata": {
    "ExecuteTime": {
     "end_time": "2021-05-04T03:21:38.344911Z",
     "start_time": "2021-05-04T03:21:38.333015Z"
    }
   },
   "outputs": [
    {
     "name": "stdout",
     "output_type": "stream",
     "text": [
      "0\n",
      "0\n",
      "1\n",
      "2\n",
      "1\n",
      "2\n",
      "2\n",
      "2\n",
      "1\n"
     ]
    }
   ],
   "source": [
    "board = [[0, 0, 1],\n",
    " [2, 1, 2],\n",
    " [2, 2, 1]]\n",
    "\n",
    "is_solved(board)"
   ]
  },
  {
   "cell_type": "code",
   "execution_count": null,
   "id": "impressive-simpson",
   "metadata": {},
   "outputs": [],
   "source": []
  }
 ],
 "metadata": {
  "kernelspec": {
   "display_name": "Python 3",
   "language": "python",
   "name": "python3"
  },
  "language_info": {
   "codemirror_mode": {
    "name": "ipython",
    "version": 3
   },
   "file_extension": ".py",
   "mimetype": "text/x-python",
   "name": "python",
   "nbconvert_exporter": "python",
   "pygments_lexer": "ipython3",
   "version": "3.9.2"
  },
  "latex_envs": {
   "LaTeX_envs_menu_present": true,
   "autoclose": false,
   "autocomplete": true,
   "bibliofile": "biblio.bib",
   "cite_by": "apalike",
   "current_citInitial": 1,
   "eqLabelWithNumbers": true,
   "eqNumInitial": 1,
   "hotkeys": {
    "equation": "Ctrl-E",
    "itemize": "Ctrl-I"
   },
   "labels_anchors": false,
   "latex_user_defs": false,
   "report_style_numbering": false,
   "user_envs_cfg": false
  }
 },
 "nbformat": 4,
 "nbformat_minor": 5
}
