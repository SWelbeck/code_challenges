{
 "cells": [
  {
   "cell_type": "code",
   "execution_count": 15,
   "id": "recovered-diversity",
   "metadata": {
    "ExecuteTime": {
     "end_time": "2021-04-28T13:30:39.032986Z",
     "start_time": "2021-04-28T13:30:38.998607Z"
    }
   },
   "outputs": [
    {
     "name": "stdout",
     "output_type": "stream",
     "text": [
      "0.0010989999999999611\n"
     ]
    }
   ],
   "source": [
    "import time\n",
    "\n",
    "t = time.process_time()\n",
    "\n",
    "def points(games):\n",
    "    points_lst = []\n",
    "    for score in games:\n",
    "        x = int(score[0])\n",
    "        y = int(score[-1])\n",
    "        if x > y:\n",
    "            points_lst.append(3)\n",
    "        if x == y:\n",
    "            points_lst.append(1)\n",
    "    return sum(points_lst)\n",
    "\n",
    "elapsed_time = time.process_time() - t\n",
    "print(elapsed_time)"
   ]
  },
  {
   "cell_type": "code",
   "execution_count": 18,
   "id": "hungry-haiti",
   "metadata": {
    "ExecuteTime": {
     "end_time": "2021-04-28T13:31:10.501169Z",
     "start_time": "2021-04-28T13:31:10.491366Z"
    }
   },
   "outputs": [
    {
     "name": "stdout",
     "output_type": "stream",
     "text": [
      "0.00011199999999966792\n"
     ]
    }
   ],
   "source": [
    "t = time.process_time()\n",
    "\n",
    "def points(games):\n",
    "    points_sum = 0\n",
    "    for score in games:\n",
    "        x = int(score[0])\n",
    "        y = int(score[-1])\n",
    "        if x > y:\n",
    "            points_sum += 3\n",
    "        if x == y:\n",
    "            points_sum += 1\n",
    "    return points_sum\n",
    "\n",
    "elapsed_time = time.process_time() - t\n",
    "print(elapsed_time)"
   ]
  },
  {
   "cell_type": "code",
   "execution_count": 17,
   "id": "satellite-doubt",
   "metadata": {
    "ExecuteTime": {
     "end_time": "2021-04-28T13:30:43.200259Z",
     "start_time": "2021-04-28T13:30:43.188196Z"
    }
   },
   "outputs": [
    {
     "name": "stdout",
     "output_type": "stream",
     "text": [
      "30\n",
      "10\n",
      "0\n",
      "15\n",
      "12\n"
     ]
    }
   ],
   "source": [
    "print(points(['1:0','2:0','3:0','4:0','2:1','3:1','4:1','3:2','4:2','4:3']))\n",
    "print(points(['1:1','2:2','3:3','4:4','2:2','3:3','4:4','3:3','4:4','4:4']))\n",
    "print(points(['0:1','0:2','0:3','0:4','1:2','1:3','1:4','2:3','2:4','3:4']))\n",
    "print(points(['1:0','2:0','3:0','4:0','2:1','1:3','1:4','2:3','2:4','3:4']))\n",
    "print(points(['1:0','2:0','3:0','4:4','2:2','3:3','1:4','2:3','2:4','3:4']))\n"
   ]
  },
  {
   "cell_type": "code",
   "execution_count": 19,
   "id": "neither-compatibility",
   "metadata": {
    "ExecuteTime": {
     "end_time": "2021-04-28T15:19:19.614818Z",
     "start_time": "2021-04-28T15:19:19.465503Z"
    }
   },
   "outputs": [],
   "source": [
    "def points(games):\n",
    "    return sum(3*(x > y) + (x == y) for x, _, y in games)"
   ]
  },
  {
   "cell_type": "code",
   "execution_count": null,
   "id": "municipal-calibration",
   "metadata": {},
   "outputs": [],
   "source": []
  }
 ],
 "metadata": {
  "kernelspec": {
   "display_name": "Python 3",
   "language": "python",
   "name": "python3"
  },
  "language_info": {
   "codemirror_mode": {
    "name": "ipython",
    "version": 3
   },
   "file_extension": ".py",
   "mimetype": "text/x-python",
   "name": "python",
   "nbconvert_exporter": "python",
   "pygments_lexer": "ipython3",
   "version": "3.8.3"
  }
 },
 "nbformat": 4,
 "nbformat_minor": 5
}
